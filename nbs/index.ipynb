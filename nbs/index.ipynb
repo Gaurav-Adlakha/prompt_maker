{
 "cells": [
  {
   "cell_type": "code",
   "execution_count": null,
   "metadata": {},
   "outputs": [
    {
     "ename": "ModuleNotFoundError",
     "evalue": "No module named 'prompt_maker'",
     "output_type": "error",
     "traceback": [
      "\u001b[31m---------------------------------------------------------------------------\u001b[39m",
      "\u001b[31mModuleNotFoundError\u001b[39m                       Traceback (most recent call last)",
      "\u001b[36mCell\u001b[39m\u001b[36m \u001b[39m\u001b[32mIn[19]\u001b[39m\u001b[32m, line 2\u001b[39m\n\u001b[32m      1\u001b[39m \u001b[38;5;66;03m#| hide\u001b[39;00m\n\u001b[32m----> \u001b[39m\u001b[32m2\u001b[39m \u001b[38;5;28;01mfrom\u001b[39;00m\u001b[38;5;250m \u001b[39m\u001b[34;01mprompt_maker\u001b[39;00m\u001b[38;5;250m \u001b[39m\u001b[38;5;28;01mimport\u001b[39;00m *\n",
      "\u001b[31mModuleNotFoundError\u001b[39m: No module named 'prompt_maker'"
     ]
    }
   ],
   "source": [
    "#| hide\n",
    "from prompt_maker import \n",
    " "
   ]
  },
  {
   "cell_type": "markdown",
   "metadata": {},
   "source": [
    "# prompt_maker\n",
    "\n",
    "> prompt maker to library using best practices."
   ]
  },
  {
   "cell_type": "markdown",
   "metadata": {},
   "source": [
    "This file will become your README and also the index of your documentation."
   ]
  },
  {
   "cell_type": "markdown",
   "metadata": {},
   "source": [
    "## Developer Guide"
   ]
  },
  {
   "cell_type": "markdown",
   "metadata": {},
   "source": [
    "If you are new to using `nbdev` here are some useful pointers to get you started."
   ]
  },
  {
   "cell_type": "markdown",
   "metadata": {},
   "source": [
    "### Install prompt_maker in Development mode"
   ]
  },
  {
   "cell_type": "markdown",
   "metadata": {},
   "source": [
    "```sh\n",
    "# make sure prompt_maker package is installed in development mode\n",
    "$ pip install -e .\n",
    "\n",
    "# make changes under nbs/ directory\n",
    "# ...\n",
    "\n",
    "# compile to have changes apply to prompt_maker\n",
    "$ nbdev_prepare\n",
    "```"
   ]
  },
  {
   "cell_type": "markdown",
   "metadata": {},
   "source": [
    "## Usage"
   ]
  },
  {
   "cell_type": "markdown",
   "metadata": {},
   "source": [
    "### Installation"
   ]
  },
  {
   "cell_type": "markdown",
   "metadata": {},
   "source": [
    "Install latest from the GitHub [repository][repo]:\n",
    "\n",
    "```sh\n",
    "$ pip install git+https://github.com/Gaurav-Adlakha/prompt_maker.git\n",
    "```\n",
    "\n",
    "or from [conda][conda]\n",
    "\n",
    "```sh\n",
    "$ conda install -c Gaurav-Adlakha prompt_maker\n",
    "```\n",
    "\n",
    "or from [pypi][pypi]\n",
    "\n",
    "\n",
    "```sh\n",
    "$ pip install prompt_maker\n",
    "```\n",
    "\n",
    "\n",
    "[repo]: https://github.com/Gaurav-Adlakha/prompt_maker\n",
    "[docs]: https://Gaurav-Adlakha.github.io/prompt_maker/\n",
    "[pypi]: https://pypi.org/project/prompt_maker/\n",
    "[conda]: https://anaconda.org/Gaurav-Adlakha/prompt_maker"
   ]
  },
  {
   "cell_type": "markdown",
   "metadata": {},
   "source": [
    "### Documentation"
   ]
  },
  {
   "cell_type": "markdown",
   "metadata": {},
   "source": [
    "Documentation can be found hosted on this GitHub [repository][repo]'s [pages][docs]. Additionally you can find package manager specific guidelines on [conda][conda] and [pypi][pypi] respectively.\n",
    "\n",
    "[repo]: https://github.com/Gaurav-Adlakha/prompt_maker\n",
    "[docs]: https://Gaurav-Adlakha.github.io/prompt_maker/\n",
    "[pypi]: https://pypi.org/project/prompt_maker/\n",
    "[conda]: https://anaconda.org/Gaurav-Adlakha/prompt_maker"
   ]
  },
  {
   "cell_type": "code",
   "execution_count": null,
   "metadata": {},
   "outputs": [
    {
     "ename": "ZeroDivisionError",
     "evalue": "division by zero",
     "output_type": "error",
     "traceback": [
      "\u001b[31m---------------------------------------------------------------------------\u001b[39m",
      "\u001b[31mZeroDivisionError\u001b[39m                         Traceback (most recent call last)",
      "\u001b[36mCell\u001b[39m\u001b[36m \u001b[39m\u001b[32mIn[17]\u001b[39m\u001b[32m, line 2\u001b[39m\n\u001b[32m      1\u001b[39m x= \u001b[32m0\u001b[39m\n\u001b[32m----> \u001b[39m\u001b[32m2\u001b[39m x= \u001b[32;43m1\u001b[39;49m\u001b[43m/\u001b[49m\u001b[32;43m0\u001b[39;49m\n\u001b[32m      3\u001b[39m \u001b[38;5;28mprint\u001b[39m(x)\n",
      "\u001b[31mZeroDivisionError\u001b[39m: division by zero"
     ]
    }
   ],
   "source": [
    "x= 0\n",
    "x= 1/0\n",
    "print(x)"
   ]
  },
  {
   "cell_type": "code",
   "execution_count": null,
   "metadata": {},
   "outputs": [
    {
     "name": "stdout",
     "output_type": "stream",
     "text": [
      "> \u001b[32m/var/folders/4x/jckq1xfx38z9w4y_67x_ljs00000gp/T/ipykernel_27972/1951163908.py\u001b[39m(\u001b[92m2\u001b[39m)\u001b[36m<module>\u001b[39m\u001b[34m()\u001b[39m\n",
      "\u001b[32m      1\u001b[39m x= \u001b[32m0\u001b[39m\n",
      "\u001b[32m----> 2\u001b[39m x= \u001b[32m1\u001b[39m/\u001b[32m0\u001b[39m\n",
      "\u001b[32m      3\u001b[39m print(x)\n",
      "\n",
      "\n",
      "Documented commands (type help <topic>):\n",
      "========================================\n",
      "EOF        cont        help           p        return           undisplay      \n",
      "a          context     ignore         pdef     retval           unignore_module\n",
      "alias      continue    ignore_module  pdoc     run              unt            \n",
      "args       d           interact       pfile    rv               until          \n",
      "b          debug       j              pinfo    s                up             \n",
      "break      disable     jump           pinfo2   skip_hidden      w              \n",
      "bt         display     l              pp       skip_predicates  whatis         \n",
      "c          down        list           psource  source           where          \n",
      "cl         enable      ll             q        step           \n",
      "clear      exceptions  longlist       quit     tbreak         \n",
      "commands   exit        n              r        u              \n",
      "condition  h           next           restart  unalias        \n",
      "\n",
      "Miscellaneous help topics:\n",
      "==========================\n",
      "exec  pdb\n",
      "\n",
      "0\n"
     ]
    }
   ],
   "source": [
    "%debug"
   ]
  }
 ],
 "metadata": {
  "kernelspec": {
   "display_name": "prompt_maker",
   "language": "python",
   "name": "prompt_maker"
  }
 },
 "nbformat": 4,
 "nbformat_minor": 4
}
